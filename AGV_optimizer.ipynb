{
  "nbformat": 4,
  "nbformat_minor": 0,
  "metadata": {
    "colab": {
      "provenance": [],
      "collapsed_sections": [],
      "toc_visible": true
    },
    "kernelspec": {
      "name": "python3",
      "display_name": "Python 3"
    },
    "language_info": {
      "name": "python"
    }
  },
  "cells": [
    {
      "cell_type": "code",
      "execution_count": null,
      "metadata": {
        "id": "9cTz6st-z_4H"
      },
      "outputs": [],
      "source": [
        "from collections import deque\n",
        "import numpy as np\n",
        "import copy\n",
        "import matplotlib.pyplot as plt\n",
        "import matplotlib.patches as patches"
      ]
    },
    {
      "cell_type": "code",
      "source": [
        "class AGVOptimizer:\n",
        "    def __init__(self,field_size,loading_bay,obstacles,weight,duedate,capacity):\n",
        "        self.field_size = field_size \n",
        "        self.loading_bay = loading_bay\n",
        "        self.obstacles = obstacles\n",
        "        self.weight = weight\n",
        "        self.duedate = duedate\n",
        "        self.capacity = capacity\n",
        "        self.job_log = {'Priority':[],'Weight_before':[],'Weight_after':[],'Due_before':[],'Due_after':[],'Distance':[],'Total_distance':[], 'Order':[]}\n",
        "        self.total_distance = 0\n",
        "        self.finish_time = [0 for _ in range(len(self.loading_bay))]\n",
        "        self.remain_time = [0 for _ in range(len(self.loading_bay))]\n",
        "\n",
        "        self.field = [[0 for _ in range(self.field_size)] for _ in range(self.field_size)]\n",
        "        for (left_bottom_x,left_bottom_y), (right_top_x,right_top_y) in self.obstacles:\n",
        "            width = right_top_x - left_bottom_x + 1\n",
        "            height = right_top_y - left_bottom_y + 1\n",
        "            for i in range(width):\n",
        "                for j in range(height):\n",
        "                    self.field[left_bottom_x+i][left_bottom_y+j] = -1\n",
        "\n",
        "    ##### field 시각화 #####\n",
        "    def show_field(self):\n",
        "        fig, ax = plt.subplots(figsize=(10,10))\n",
        "        ax.grid()\n",
        "        ax.set_xticks([i for i in range(0,self.field_size+1)])\n",
        "        ax.set_yticks([i for i in range(0,self.field_size+1)])\n",
        "\n",
        "        ax.add_patch(patches.Rectangle((0, 0), 1, 1,color='orange',fill=True))\n",
        "        ax.text(0,1,fontsize=10, s='Sorting area')\n",
        "        for ind, (x, y) in enumerate(self.loading_bay):\n",
        "            ax.add_patch(patches.Rectangle((x, y), 1, 1,fill=True))\n",
        "            ax.text(x-1,y+1,fontsize=10, s='Loading bay {}'.format(ind+1))\n",
        "        for (left_bottom_x,left_bottom_y), (right_top_x,right_top_y) in self.obstacles:\n",
        "            width = right_top_x - left_bottom_x + 1\n",
        "            height = right_top_y - left_bottom_y + 1\n",
        "            ax.add_patch(patches.Rectangle((left_bottom_x, left_bottom_y), width, height,color='black',fill=True))\n",
        "        plt.show()\n",
        "\n",
        "    ##### 각 Loading bay까지의 최단거리 #####\n",
        "    def calculate_distance(self):\n",
        "        def bfs(field,x,y):\n",
        "            field = copy.deepcopy(field)\n",
        "            dx = [-1, 1, 0, 0] \n",
        "            dy = [0, 0, -1, 1]\n",
        "            queue = deque()\n",
        "            queue.append((x, y))\n",
        "            while queue:\n",
        "                x, y = queue.popleft()\n",
        "                for i in range(4):\n",
        "                    nx = x + dx[i]\n",
        "                    ny = y + dy[i]\n",
        "                    if nx < 0 or nx >= len(field[0]) or ny < 0 or ny >= len(field[0]):\n",
        "                        continue\n",
        "                    if field[nx][ny] == -1:\n",
        "                        continue\n",
        "                    if field[nx][ny] == 0:\n",
        "                        field[nx][ny] = field[x][y] + 1\n",
        "                        queue.append((nx, ny))\n",
        "            return field\n",
        "\n",
        "        nodes = [[0,0]]\n",
        "        nodes.extend(self.loading_bay)\n",
        "        distance = []\n",
        "        for i in range(len(nodes)):\n",
        "            start_x,start_y = nodes[i]\n",
        "            dist_list = []\n",
        "            dist = bfs(self.field,start_x,start_y)\n",
        "            for x,y in nodes:\n",
        "                dist_list.append(dist[x][y])\n",
        "            dist_list[i] = 0\n",
        "            distance.append(dist_list)\n",
        "        return distance\n",
        "\n",
        "    ##### 스케쥴링 우선순위 계산 #####\n",
        "    def calculate_priority(self,distance):\n",
        "        # (남은 시간 - loading bay까지의 거리) 가 작을수록 빨리 보내야하는 작업\n",
        "        earliness = [self.duedate[i]-distance[i+1] for i in range(len(self.duedate))]\n",
        "        earliness_order = list(np.argsort(earliness))\n",
        "        return [i for i in earliness_order if self.weight[i]>0] # 옮겨야 할 짐이 남아있는 loading bay 중 값이 작은 순서대로 index 반환\n",
        "\n",
        "    ##### AGV 출발 시 결과 저장 함수 #####\n",
        "    def save_result(self,distance,visit_order):\n",
        "        self.job_log['Weight_after'].append(copy.deepcopy(self.weight))\n",
        "        self.job_log['Due_after'].append(self.duedate)\n",
        "        self.job_log['Distance'].append(distance)\n",
        "        self.job_log['Total_distance'].append(self.total_distance)\n",
        "        self.job_log['Order'].append(visit_order)\n",
        "\n",
        "    ##### 스케쥴링 수행 #####\n",
        "    def schedule(self):\n",
        "        bfs_table = self.calculate_distance() # 각 지점별로 이동할 수 있는 최단거리 행렬\n",
        "        while sum(self.weight) > 0:\n",
        "            # 우선순위 및 초기값 설정\n",
        "            priority = self.calculate_priority(bfs_table[0]) # 방문 우선순위\n",
        "            AGV_weight = self.capacity # AGV에 실을 수 있는 남은 무게\n",
        "            visit_list=[] # 방문할 loading bay\n",
        "            finished_job=[] # 완료되는 작업\n",
        "\n",
        "            # 작업 시작 전 상태 저장\n",
        "            self.job_log['Priority'].append(copy.deepcopy(priority))\n",
        "            self.job_log['Weight_before'].append(copy.deepcopy(self.weight))\n",
        "            self.job_log['Due_before'].append(self.duedate)\n",
        "\n",
        "            # 방문할 loading bay 선택 후 sorting area에서 가까운 순서대로 방문\n",
        "            while AGV_weight>0:\n",
        "                if not priority:\n",
        "                    break\n",
        "                job = priority.pop(0)\n",
        "                visit = True\n",
        "                for j,_ in visit_list:\n",
        "                    if (bfs_table[0][job+1] + bfs_table[job+1][j+1]) == bfs_table[0][j+1]:\n",
        "                        visit = True\n",
        "                        break\n",
        "                    if (bfs_table[0][j+1] + bfs_table[j+1][job+1]) != bfs_table[0][job+1]:\n",
        "                        visit = False\n",
        "                if not visit: # 다른 loading bay를 거쳐 최단 거리로 방문할 수 있는 지점인지 확인\n",
        "                    continue\n",
        "                visit_list.append((job,bfs_table[0][job+1]))\n",
        "                visit_list.sort(key=lambda x:x[1])\n",
        "                load_weight = min(AGV_weight,self.weight[job]) # AGV 실을 무게\n",
        "                self.weight[job] -= load_weight\n",
        "                AGV_weight -= load_weight\n",
        "                if self.weight[job] == 0: # 끝난 작업 저장\n",
        "                    finished_job.append(job)                   \n",
        "            \n",
        "            # 작업 완료 후 결과 저장\n",
        "            for i in finished_job:\n",
        "                self.finish_time[i] = self.total_distance + bfs_table[0][i+1] \n",
        "                self.remain_time[i] = self.duedate[i] - bfs_table[0][i+1]           \n",
        "            distance = visit_list[-1][1]*2\n",
        "            self.total_distance += distance\n",
        "            self.duedate = [i-distance for i in self.duedate]\n",
        "            self.save_result(distance,visit_list)\n",
        "\n",
        "        print('Scheduling Done!')\n",
        "\n",
        "    ##### 결과 출력 #####\n",
        "    def show_result(self):\n",
        "        bfs_table = self.calculate_distance()\n",
        "        for i in range(len(self.job_log['Distance'])):\n",
        "            print('********** transportation #{} **********'.format(i+1))\n",
        "            print('운반 전 무게:',self.job_log['Weight_before'][i])\n",
        "            print('운반 전 남은시간:',self.job_log['Due_before'][i])\n",
        "            print('Sorting area부터의 거리:',bfs_table[0][1:])\n",
        "            print('우선순위:',self.job_log['Priority'][i])\n",
        "            print('방문 순서:',' -> '.join([str(x[0]) for x in self.job_log['Order'][i]]))\n",
        "            print('운반 후 무게',self.job_log['Weight_after'][i])\n",
        "            print('운반 후 남은시간',self.job_log['Due_after'][i])\n",
        "            print('이동 거리:',self.job_log['Distance'][i])\n",
        "            print('누적 이동 거리:',self.job_log['Total_distance'][i])\n",
        "            print('***************************************')\n",
        "            print()\n",
        "        print('*************** Result ****************')\n",
        "        print('총 이동 거리:',self.job_log['Total_distance'][-1])\n",
        "        print('작업별 완료 시점:',self.finish_time)\n",
        "        print('작업별 남은 시간:',self.remain_time)\n",
        "        print('***************************************')"
      ],
      "metadata": {
        "id": "pdyfLgaGQghH"
      },
      "execution_count": null,
      "outputs": []
    },
    {
      "cell_type": "code",
      "source": [
        "# 변수 설정\n",
        "field_size = 31   # field 크기 (정사각형)\n",
        "loading_bay = [[3,29],[11,29],[19,29],[8,21],[16,21],[24,21],[5,13],[20,13]]   # sorting area (0,0) 을 기준으로 loading bay의 x,y좌표\n",
        "obstacles = [[(3,23),(4,24)],[(16,23),(17,24)],[(5,7),(6,8)],[(18,7),(19,8)]] # sorting area (0,0) 을 기준으로 장애물의 왼쪽 아래, 오른쪽 위 좌표\n",
        "job_weight = [300,500,200,100,200,400,100,300]   # 각 Loading bay에 가야 할 수하물 무게\n",
        "job_duedate = [160,240,250,170,330,450,340,190]   # 각 Loading bay까지 남은 시간\n",
        "AGV_capacity = 500   # AGV 최대 적재량"
      ],
      "metadata": {
        "id": "f42MaN2N9FiZ"
      },
      "execution_count": null,
      "outputs": []
    },
    {
      "cell_type": "code",
      "source": [
        "# AGVOptimizer 객체 선언\n",
        "simulation = AGVOptimizer(field_size=field_size,loading_bay=loading_bay,obstacles=obstacles,weight=job_weight,duedate=job_duedate,capacity=AGV_capacity)"
      ],
      "metadata": {
        "id": "m1U-ut0689UF"
      },
      "execution_count": null,
      "outputs": []
    },
    {
      "cell_type": "code",
      "source": [
        "# field 시각화\n",
        "simulation.show_field()"
      ],
      "metadata": {
        "colab": {
          "base_uri": "https://localhost:8080/",
          "height": 596
        },
        "id": "N8XEJyMy9rTw",
        "outputId": "0f11ed34-79f4-4b50-ef97-86012f9db7a1"
      },
      "execution_count": null,
      "outputs": [
        {
          "output_type": "display_data",
          "data": {
            "text/plain": [
              "<Figure size 720x720 with 1 Axes>"
            ],
            "image/png": "[encoded data removed]"
          },
          "metadata": {
            "needs_background": "light"
          }
        }
      ]
    },
    {
      "cell_type": "code",
      "source": [
        "# 스케쥴링 수행\n",
        "simulation.schedule()"
      ],
      "metadata": {
        "colab": {
          "base_uri": "https://localhost:8080/"
        },
        "id": "1TFrfGGq97rf",
        "outputId": "f3c78bb2-c82e-45fd-98db-fc84391946b2"
      },
      "execution_count": null,
      "outputs": [
        {
          "output_type": "stream",
          "name": "stdout",
          "text": [
            "Scheduling Done!\n"
          ]
        }
      ]
    },
    {
      "cell_type": "code",
      "source": [
        "# 결과 확인\n",
        "simulation.show_result()"
      ],
      "metadata": {
        "colab": {
          "base_uri": "https://localhost:8080/"
        },
        "id": "uTTfP6K002FE",
        "outputId": "b9f4547f-5241-4d68-ef8c-d22a54c5f469"
      },
      "execution_count": null,
      "outputs": [
        {
          "output_type": "stream",
          "name": "stdout",
          "text": [
            "********** transportation #1 **********\n",
            "운반 전 무게: [300, 500, 200, 100, 200, 400, 100, 300]\n",
            "운반 전 남은시간: [160, 240, 250, 170, 330, 450, 340, 190]\n",
            "Sorting area부터의 거리: [32, 40, 48, 29, 37, 45, 18, 33]\n",
            "우선순위: [0, 3, 7, 1, 2, 4, 6, 5]\n",
            "방문 순서: 0 -> 1\n",
            "운반 후 무게 [0, 300, 200, 100, 200, 400, 100, 300]\n",
            "운반 후 남은시간 [80, 160, 170, 90, 250, 370, 260, 110]\n",
            "이동 거리: 80\n",
            "누적 이동 거리: 80\n",
            "***************************************\n",
            "\n",
            "********** transportation #2 **********\n",
            "운반 전 무게: [0, 300, 200, 100, 200, 400, 100, 300]\n",
            "운반 전 남은시간: [80, 160, 170, 90, 250, 370, 260, 110]\n",
            "Sorting area부터의 거리: [32, 40, 48, 29, 37, 45, 18, 33]\n",
            "우선순위: [3, 7, 1, 2, 4, 6, 5]\n",
            "방문 순서: 3 -> 1 -> 2\n",
            "운반 후 무게 [0, 0, 100, 0, 200, 400, 100, 300]\n",
            "운반 후 남은시간 [-16, 64, 74, -6, 154, 274, 164, 14]\n",
            "이동 거리: 96\n",
            "누적 이동 거리: 176\n",
            "***************************************\n",
            "\n",
            "********** transportation #3 **********\n",
            "운반 전 무게: [0, 0, 100, 0, 200, 400, 100, 300]\n",
            "운반 전 남은시간: [-16, 64, 74, -6, 154, 274, 164, 14]\n",
            "Sorting area부터의 거리: [32, 40, 48, 29, 37, 45, 18, 33]\n",
            "우선순위: [7, 2, 4, 6, 5]\n",
            "방문 순서: 6 -> 7 -> 5\n",
            "운반 후 무게 [0, 0, 100, 0, 200, 300, 0, 0]\n",
            "운반 후 남은시간 [-106, -26, -16, -96, 64, 184, 74, -76]\n",
            "이동 거리: 90\n",
            "누적 이동 거리: 266\n",
            "***************************************\n",
            "\n",
            "********** transportation #4 **********\n",
            "운반 전 무게: [0, 0, 100, 0, 200, 300, 0, 0]\n",
            "운반 전 남은시간: [-106, -26, -16, -96, 64, 184, 74, -76]\n",
            "Sorting area부터의 거리: [32, 40, 48, 29, 37, 45, 18, 33]\n",
            "우선순위: [2, 4, 5]\n",
            "방문 순서: 4 -> 2\n",
            "운반 후 무게 [0, 0, 0, 0, 0, 300, 0, 0]\n",
            "운반 후 남은시간 [-202, -122, -112, -192, -32, 88, -22, -172]\n",
            "이동 거리: 96\n",
            "누적 이동 거리: 362\n",
            "***************************************\n",
            "\n",
            "********** transportation #5 **********\n",
            "운반 전 무게: [0, 0, 0, 0, 0, 300, 0, 0]\n",
            "운반 전 남은시간: [-202, -122, -112, -192, -32, 88, -22, -172]\n",
            "Sorting area부터의 거리: [32, 40, 48, 29, 37, 45, 18, 33]\n",
            "우선순위: [5]\n",
            "방문 순서: 5\n",
            "운반 후 무게 [0, 0, 0, 0, 0, 0, 0, 0]\n",
            "운반 후 남은시간 [-292, -212, -202, -282, -122, -2, -112, -262]\n",
            "이동 거리: 90\n",
            "누적 이동 거리: 452\n",
            "***************************************\n",
            "\n",
            "*************** Result ****************\n",
            "총 이동 거리: 452\n",
            "작업별 완료 시점: [32, 120, 314, 109, 303, 407, 194, 209]\n",
            "작업별 남은 시간: [128, 120, -64, 61, 27, 43, 146, -19]\n",
            "***************************************\n"
          ]
        }
      ]
    }
  ]
}